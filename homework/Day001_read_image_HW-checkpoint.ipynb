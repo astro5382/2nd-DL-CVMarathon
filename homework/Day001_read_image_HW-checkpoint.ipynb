{
 "cells": [
  {
   "cell_type": "markdown",
   "metadata": {},
   "source": [
    "# 作業\n",
    "\n",
    "思考一下我們前面有提到圖片是矩陣，但維度可能會不一樣\n",
    "例如灰階圖只有兩個維度，RGB 彩圖則有 3 個維度\n",
    "\n",
    "假如今天我們把 RGB 3 個維度拆開來看會有甚麼不同的效果呢？"
   ]
  },
  {
   "cell_type": "code",
   "execution_count": null,
   "metadata": {},
   "outputs": [],
   "source": [
    "import cv2\n",
    "import numpy as np\n",
    "\n",
    "img_path = 'data/lena.png'\n",
    "\n",
    "# 以彩色圖片的方式載入\n",
    "img = cv2.imread(img_path, cv2.IMREAD_COLOR)\n",
    "\n",
    "# 把圖片合併起來方便一起看\n",
    "img_b = np.zeros((img.shape[0],img.shape[1]), dtype=img.dtype) #方法一先建立空矩陣\n",
    "img_b[:,:] = img[:,:,0]\n",
    "img_g = img[:, :, 1] #方法二直接複製矩陣\n",
    "img_r = cv2.split(img)[2] #方法三先split拆開矩陣\n",
    "\n",
    "print(img_b.shape)\n",
    "print(img_g.shape)\n",
    "print(img_r.shape)\n",
    "print(img.shape[:2])\n",
    "\n",
    "img_bgr_gray = np.hstack([img_b,img_g,img_r]) #把三組B,G,R單通道圖，水平合併\n",
    "print(img_bgr_gray.shape)\n",
    "\n",
    "zeros = np.zeros(img.shape[:2], dtype = \"uint8\")\n",
    "img_R = cv2.merge([zeros,zeros,img_r])\n",
    "\n",
    "img_rgb = cv2.cvtColor(img, cv2.COLOR_BGR2RGB)\n",
    "\n",
    "# 為了要不斷顯示圖片，所以使用一個迴圈\n",
    "while True:\n",
    "    # 顯示彩圖\n",
    "    cv2.namedWindow('bgr_gray',1) #參數2為視窗依圖片大小顯示，可調整視窗大小。如果沒設置則預設為1，自動依螢幕調整視窗大小\n",
    "    cv2.resizeWindow('bgr_gray',300,900)\n",
    "    cv2.imshow('bgr_gray', img_bgr_gray)\n",
    "\n",
    "    # 直到按下 ESC 鍵才會自動關閉視窗結束程式\n",
    "    k = cv2.waitKey(0)\n",
    "    if k == 27:\n",
    "        cv2.destroyAllWindows()\n",
    "        break"
   ]
  },
  {
   "cell_type": "code",
   "execution_count": null,
   "metadata": {},
   "outputs": [],
   "source": []
  },
  {
   "cell_type": "code",
   "execution_count": null,
   "metadata": {},
   "outputs": [],
   "source": []
  }
 ],
 "metadata": {
  "kernelspec": {
   "display_name": "Python 3",
   "language": "python",
   "name": "python3"
  },
  "language_info": {
   "codemirror_mode": {
    "name": "ipython",
    "version": 3
   },
   "file_extension": ".py",
   "mimetype": "text/x-python",
   "name": "python",
   "nbconvert_exporter": "python",
   "pygments_lexer": "ipython3",
   "version": "3.6.9"
  }
 },
 "nbformat": 4,
 "nbformat_minor": 2
}
